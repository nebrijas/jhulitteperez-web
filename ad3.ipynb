{
 "cells": [
  {
   "cell_type": "markdown",
   "id": "a2ea031b",
   "metadata": {},
   "source": [
    "## Actividad Dirigida 3"
   ]
  },
  {
   "cell_type": "markdown",
   "id": "fbfaf6f0",
   "metadata": {},
   "source": [
    "Esta es la actividad dirigida 3 que consiste en hacer un ejercicio de programación literaria aprovechando el código que hemos usado en programación con Python donde realizamos *web scraping*.\n",
    "A continuación pongo el código fuente."
   ]
  },
  {
   "cell_type": "markdown",
   "id": "71cc8e4b",
   "metadata": {},
   "source": [
    "## Código fuente"
   ]
  },
  {
   "cell_type": "code",
   "execution_count": null,
   "id": "1e3bc50d",
   "metadata": {},
   "outputs": [],
   "source": [
    "import requests\n",
    "import time\n",
    "import csv\n",
    "import re\n",
    "from bs4 import BeautifulSoup\n",
    "import os\n",
    "import pandas as pd\n",
    "from termcolor import colored\n",
    "\n",
    "resultados = []\n",
    "\n",
    "req = requests.get(\"https://resultados.elpais.com\")\n",
    "# Si el estatus code no es 200 no se puede leer la página\n",
    "if (req.status_code != 200):\n",
    " raise Exception(\"No se puede hacer Web Scraping en\"+ URL)\n",
    "soup = BeautifulSoup(req.text, 'html.parser')\n",
    "\n",
    "tags = soup.findAll(\"h2\")\n",
    "\n",
    "for h2 in tags:\n",
    "    print(h2.text)\n",
    "    resultados.append(h2.text)\n",
    "\n",
    "req2 = requests.get(\"https://elpais.com/internacional\")\n",
    "# Si el estatus code no es 200 no se puede leer la página\n",
    "if (req.status_code != 200):\n",
    " raise Exception(\"No se puede hacer Web Scraping en\"+ URL)\n",
    "soup2 = BeautifulSoup(req2.text, 'html.parser')\n",
    "\n",
    "tags = soup2.findAll(\"h2\")\n",
    "\n",
    "for h2 in tags:\n",
    "    print(h2.text)\n",
    "    resultados.append(h2.text)\n",
    "\n",
    "req3 = requests.get(\"https://elpais.com/opinion\")\n",
    "# Si el estatus code no es 200 no se puede leer la página\n",
    "if (req.status_code != 200):\n",
    " raise Exception(\"No se puede hacer Web Scraping en\"+ URL)\n",
    "soup3 = BeautifulSoup(req3.text, 'html.parser')\n",
    "\n",
    "tags = soup3.findAll(\"h2\")\n",
    "\n",
    "for h2 in tags:\n",
    "    print(h2.text)\n",
    "    resultados.append(h2.text)\n",
    "\n",
    "req4 = requests.get(\"https://elpais.com/espana/\")\n",
    "# Si el estatus code no es 200 no se puede leer la página\n",
    "if (req.status_code != 200):\n",
    " raise Exception(\"No se puede hacer Web Scraping en\"+ URL)\n",
    "soup4 = BeautifulSoup(req4.text, 'html.parser')\n",
    "\n",
    "tags = soup4.findAll(\"h2\")\n",
    "\n",
    "for h2 in tags:\n",
    "    print(h2.text)\n",
    "    resultados.append(h2.text)\n",
    "\n",
    "req5 = requests.get(\"https://elpais.com/economia/\")\n",
    "# Si el estatus code no es 200 no se puede leer la página\n",
    "if (req.status_code != 200):\n",
    " raise Exception(\"No se puede hacer Web Scraping en\"+ URL)\n",
    "soup5 = BeautifulSoup(req5.text, 'html.parser')\n",
    "\n",
    "tags = soup5.findAll(\"h2\")\n",
    "\n",
    "for h2 in tags:\n",
    "    print(h2.text)\n",
    "    resultados.append(h2.text)\n",
    "\n",
    "req6 = requests.get(\"https://elpais.com/sociedad/\")\n",
    "# Si el estatus code no es 200 no se puede leer la página\n",
    "if (req.status_code != 200):\n",
    " raise Exception(\"No se puede hacer Web Scraping en\"+ URL)\n",
    "soup6 = BeautifulSoup(req6.text, 'html.parser')\n",
    "\n",
    "tags = soup6.findAll(\"h2\")\n",
    "\n",
    "for h2 in tags:\n",
    "    print(h2.text)\n",
    "    resultados.append(h2.text)\n",
    "\n",
    "req7 = requests.get(\"https://elpais.com/educacion/\")\n",
    "# Si el estatus code no es 200 no se puede leer la página\n",
    "if (req.status_code != 200):\n",
    " raise Exception(\"No se puede hacer Web Scraping en\"+ URL)\n",
    "soup7 = BeautifulSoup(req7.text, 'html.parser')\n",
    "\n",
    "tags = soup7.findAll(\"h2\")\n",
    "\n",
    "for h2 in tags:\n",
    "    print(h2.text)\n",
    "    resultados.append(h2.text)\n",
    "\n",
    "req8 = requests.get(\"https://elpais.com/clima-y-medio-ambiente/\")\n",
    "# Si el estatus code no es 200 no se puede leer la página\n",
    "if (req.status_code != 200):\n",
    " raise Exception(\"No se puede hacer Web Scraping en\"+ URL)\n",
    "soup8 = BeautifulSoup(req8.text, 'html.parser')\n",
    "\n",
    "tags = soup8.findAll(\"h2\")\n",
    "\n",
    "for h2 in tags:\n",
    "    print(h2.text)\n",
    "    resultados.append(h2.text)\n",
    "\n",
    "req9 = requests.get(\"https://elpais.com/ciencia/\")\n",
    "# Si el estatus code no es 200 no se puede leer la página\n",
    "if (req.status_code != 200):\n",
    " raise Exception(\"No se puede hacer Web Scraping en\"+ URL)\n",
    "soup9 = BeautifulSoup(req9.text, 'html.parser')\n",
    "\n",
    "tags = soup9.findAll(\"h2\")\n",
    "\n",
    "for h2 in tags:\n",
    "    print(h2.text)\n",
    "    resultados.append(h2.text)\n",
    "\n",
    "req10 = requests.get(\"https://elpais.com/cultura/\")\n",
    "# Si el estatus code no es 200 no se puede leer la página\n",
    "if (req.status_code != 200):\n",
    " raise Exception(\"No se puede hacer Web Scraping en\"+ URL)\n",
    "soup10 = BeautifulSoup(req10.text, 'html.parser')\n",
    "\n",
    "tags = soup10.findAll(\"h2\")\n",
    "\n",
    "for h2 in tags:\n",
    "    print(h2.text)\n",
    "    resultados.append(h2.text)\n",
    "\n",
    "req11 = requests.get(\"https://elpais.com/babelia/\")\n",
    "# Si el estatus code no es 200 no se puede leer la página\n",
    "if (req.status_code != 200):\n",
    " raise Exception(\"No se puede hacer Web Scraping en\"+ URL)\n",
    "soup11 = BeautifulSoup(req11.text, 'html.parser')\n",
    "\n",
    "tags = soup11.findAll(\"h2\")\n",
    "\n",
    "for h2 in tags:\n",
    "    print(h2.text)\n",
    "    resultados.append(h2.text)\n",
    "\n",
    "req12 = requests.get(\"https://elpais.com/deportes/\")\n",
    "# Si el estatus code no es 200 no se puede leer la página\n",
    "if (req.status_code != 200):\n",
    " raise Exception(\"No se puede hacer Web Scraping en\"+ URL)\n",
    "soup12 = BeautifulSoup(req12.text, 'html.parser')\n",
    "\n",
    "tags = soup12.findAll(\"h2\")\n",
    "\n",
    "for h2 in tags:\n",
    "    print(h2.text)\n",
    "    resultados.append(h2.text)\n",
    "\n",
    "req13 = requests.get(\"https://elpais.com/tecnologia/\")\n",
    "# Si el estatus code no es 200 no se puede leer la página\n",
    "if (req.status_code != 200):\n",
    " raise Exception(\"No se puede hacer Web Scraping en\"+ URL)\n",
    "soup13 = BeautifulSoup(req13.text, 'html.parser')\n",
    "\n",
    "tags = soup13.findAll(\"h2\")\n",
    "\n",
    "for h2 in tags:\n",
    "    print(h2.text)\n",
    "    resultados.append(h2.text)\n",
    "\n",
    "req14 = requests.get(\"https://elpais.com/tecnologia/\")\n",
    "# Si el estatus code no es 200 no se puede leer la página\n",
    "if (req.status_code != 200):\n",
    " raise Exception(\"No se puede hacer Web Scraping en\"+ URL)\n",
    "soup14 = BeautifulSoup(req14.text, 'html.parser')\n",
    "\n",
    "tags = soup14.findAll(\"h2\")\n",
    "\n",
    "for h2 in tags:\n",
    "    print(h2.text)\n",
    "    resultados.append(h2.text)\n",
    "\n",
    "req15 = requests.get(\"https://elpais.com/gente/\")\n",
    "# Si el estatus code no es 200 no se puede leer la página\n",
    "if (req.status_code != 200):\n",
    " raise Exception(\"No se puede hacer Web Scraping en\"+ URL)\n",
    "soup15 = BeautifulSoup(req15.text, 'html.parser')\n",
    "\n",
    "tags = soup15.findAll(\"h2\")\n",
    "\n",
    "for h2 in tags:\n",
    "    print(h2.text)\n",
    "    resultados.append(h2.text)\n",
    "\n",
    "req16 = requests.get(\"https://elpais.com/television/\")\n",
    "# Si el estatus code no es 200 no se puede leer la página\n",
    "if (req.status_code != 200):\n",
    " raise Exception(\"No se puede hacer Web Scraping en\"+ URL)\n",
    "soup16 = BeautifulSoup(req16.text, 'html.parser')\n",
    "\n",
    "tags = soup16.findAll(\"h2\")\n",
    "\n",
    "for h2 in tags:\n",
    "    print(h2.text)\n",
    "    resultados.append(h2.text)\n",
    "\n",
    "req17 = requests.get(\"https://elpais.com/eps/\")\n",
    "# Si el estatus code no es 200 no se puede leer la página\n",
    "if (req.status_code != 200):\n",
    " raise Exception(\"No se puede hacer Web Scraping en\"+ URL)\n",
    "soup17 = BeautifulSoup(req17.text, 'html.parser')\n",
    "\n",
    "tags = soup17.findAll(\"h2\")\n",
    "\n",
    "for h2 in tags:\n",
    "    print(h2.text)\n",
    "    resultados.append(h2.text)\n",
    "\n",
    "\n",
    "os.system(\"clear\")\n",
    "\n",
    "print(colored(\"A continuación se muestran los titulares de las páginas principales del diario El País que contienen las siguientes palabras:\", 'blue', attrs=['bold']))\n",
    "print(colored(\"Feminismo\", 'green', attrs=['bold']))\n",
    "\n",
    "str_match = [s for s in resultados if \"feminismo\" in s]\n",
    "print(\"\\n\".join(str_match))\n",
    "\n",
    "print(colored(\"Igualdad\", 'green', attrs=['bold']))\n",
    "\n",
    "str_match = [s for s in resultados if \"igualdad\" in s]\n",
    "print(\"\\n\".join(str_match))\n",
    "\n",
    "print(colored(\"Mujeres\", 'green', attrs=['bold']))\n",
    "\n",
    "str_match = [s for s in resultados if \"mujeres\" in s]\n",
    "print(\"\\n\".join(str_match))\n",
    "\n",
    "print(colored(\"Mujer\", 'green', attrs=['bold']))\n",
    "\n",
    "str_match = [s for s in resultados if \"mujer\" in s]\n",
    "print(\"\\n\".join(str_match))\n",
    "\n",
    "print(colored(\"Brecha salarial\", 'green', attrs=['bold']))\n",
    "\n",
    "str_match = [s for s in resultados if \"brecha salarial\" in s]\n",
    "print(\"\\n\".join(str_match))\n",
    "\n",
    "print(colored(\"Machismo\", 'green', attrs=['bold']))\n",
    "\n",
    "str_match = [s for s in resultados if \"machismo\" in s]\n",
    "print(\"\\n\".join(str_match))\n",
    "\n",
    "print(colored(\"Violencia\", 'green', attrs=['bold']))\n",
    "\n",
    "str_match = [s for s in resultados if \"violencia\" in s]\n",
    "print(\"\\n\".join(str_match))\n",
    "\n",
    "print(colored(\"Maltrato\", 'green', attrs=['bold']))\n",
    "\n",
    "str_match = [s for s in resultados if \"maltrato\" in s]\n",
    "print(\"\\n\".join(str_match))\n",
    "\n",
    "print(colored(\"Homicidio\", 'green', attrs=['bold']))\n",
    "\n",
    "str_match = [s for s in resultados if \"homicidio\" in s]\n",
    "print(\"\\n\".join(str_match))\n",
    "\n",
    "print(colored(\"Género\", 'green', attrs=['bold']))\n",
    "\n",
    "str_match = [s for s in resultados if \"género\" in s]\n",
    "print(\"\\n\".join(str_match))\n",
    "\n",
    "print(colored(\"Asesinato\", 'green', attrs=['bold']))\n",
    "\n",
    "str_match = [s for s in resultados if \"asesinato\" in s]\n",
    "print(\"\\n\".join(str_match))\n",
    "\n",
    "print(colored(\"Sexo\", 'green', attrs=['bold']))\n",
    "\n",
    "str_match = [s for s in resultados if \"sexo\" in s]\n",
    "print(\"\\n\".join(str_match))"
   ]
  },
  {
   "cell_type": "markdown",
   "id": "db4c0d61",
   "metadata": {},
   "source": [
    "Primer paso, instalamos líbrerias para realizar el web scraping."
   ]
  },
  {
   "cell_type": "code",
   "execution_count": 5,
   "id": "cab649ad",
   "metadata": {
    "scrolled": false
   },
   "outputs": [
    {
     "name": "stdout",
     "output_type": "stream",
     "text": [
      "Defaulting to user installation because normal site-packages is not writeableNote: you may need to restart the kernel to use updated packages.\n",
      "\n",
      "Requirement already satisfied: requests in c:\\programdata\\anaconda3\\lib\\site-packages (2.27.1)\n",
      "Requirement already satisfied: bs4 in c:\\users\\norma\\appdata\\roaming\\python\\python39\\site-packages (0.0.1)\n",
      "Requirement already satisfied: pandas in c:\\programdata\\anaconda3\\lib\\site-packages (1.4.2)\n",
      "Requirement already satisfied: termcolor in c:\\users\\norma\\appdata\\roaming\\python\\python39\\site-packages (1.1.0)\n",
      "Requirement already satisfied: certifi>=2017.4.17 in c:\\programdata\\anaconda3\\lib\\site-packages (from requests) (2021.10.8)\n",
      "Requirement already satisfied: charset-normalizer~=2.0.0 in c:\\programdata\\anaconda3\\lib\\site-packages (from requests) (2.0.4)\n",
      "Requirement already satisfied: urllib3<1.27,>=1.21.1 in c:\\programdata\\anaconda3\\lib\\site-packages (from requests) (1.26.9)\n",
      "Requirement already satisfied: idna<4,>=2.5 in c:\\programdata\\anaconda3\\lib\\site-packages (from requests) (3.3)\n",
      "Requirement already satisfied: beautifulsoup4 in c:\\programdata\\anaconda3\\lib\\site-packages (from bs4) (4.11.1)\n",
      "Requirement already satisfied: python-dateutil>=2.8.1 in c:\\programdata\\anaconda3\\lib\\site-packages (from pandas) (2.8.2)\n",
      "Requirement already satisfied: numpy>=1.18.5 in c:\\programdata\\anaconda3\\lib\\site-packages (from pandas) (1.21.5)\n",
      "Requirement already satisfied: pytz>=2020.1 in c:\\programdata\\anaconda3\\lib\\site-packages (from pandas) (2021.3)\n",
      "Requirement already satisfied: six>=1.5 in c:\\programdata\\anaconda3\\lib\\site-packages (from python-dateutil>=2.8.1->pandas) (1.16.0)\n",
      "Requirement already satisfied: soupsieve>1.2 in c:\\programdata\\anaconda3\\lib\\site-packages (from beautifulsoup4->bs4) (2.3.1)\n"
     ]
    }
   ],
   "source": [
    "pip install requests bs4 pandas termcolor"
   ]
  },
  {
   "cell_type": "markdown",
   "id": "d81947d9",
   "metadata": {},
   "source": [
    "### Librerías\n",
    "Las librerías que vienen con Python no hay que instalarlas, las otras si. "
   ]
  },
  {
   "cell_type": "markdown",
   "id": "2b9cfaba",
   "metadata": {},
   "source": [
    "### Librerías  internas"
   ]
  },
  {
   "cell_type": "markdown",
   "id": "2435995d",
   "metadata": {},
   "source": [
    "- [time](https://docs.python.org/es/3/library/time.html), contiene funcionalidades que permiten manipular y dar formato de fechas y horas. \n",
    "- [csv](https://docs.python.org/3/library/csv.html), tipo de archivo que se utiliza para almacenar datos en una forma tabular estructurada (fila / columna).\n",
    "- [re](https://docs.python.org/3/library/re.html), El módulo re cuenta con funciones para trabajar con expresiones regulares y cadenas.\n",
    "- [os](https://docs.python.org/3/library/os.html), El módulo os en Python proporciona y expone los detalles y la funcionalidad del sistema operativo."
   ]
  },
  {
   "cell_type": "markdown",
   "id": "45356c78",
   "metadata": {},
   "source": [
    "### Librerías externas"
   ]
  },
  {
   "cell_type": "markdown",
   "id": "72cc453d",
   "metadata": {},
   "source": [
    "- [requests](https://cosasdedevs.com/posts/web-scraping-con-requests-y-beautifulsoup-en-python/), se utiliza para realizar peticiones a la páina de la que se va extraer los datos.\n",
    "\n",
    "- [bs4](https://es.acervolima.com/python-beautifulsoup-encontrar-todas-las-clases/), Beautiful Soup(bs4) es una biblioteca de Python para extraer datos de archivos HTML y XML. \n",
    "- [pandas](https://pypi.org/project/pandas/), Herramienta de manipulación y análisis de datos de código abierto rápida, construida sobre el lenguaje de programación Python.\n",
    "- [termcolor](https://pypi.org/project/termcolor/), Biblioteca para imprimir mensajes de colores en el terminal.\n"
   ]
  },
  {
   "cell_type": "markdown",
   "id": "139c48ec",
   "metadata": {},
   "source": [
    "Importación de librerías para que los comandos respondan:"
   ]
  },
  {
   "cell_type": "code",
   "execution_count": 6,
   "id": "57dcb30b",
   "metadata": {},
   "outputs": [],
   "source": [
    "import requests\n",
    "import time\n",
    "import csv\n",
    "import re\n",
    "from bs4 import BeautifulSoup\n",
    "import os\n",
    "import pandas as pd\n",
    "from termcolor import colored"
   ]
  },
  {
   "cell_type": "markdown",
   "id": "ad379133",
   "metadata": {},
   "source": [
    " # Objetos/ Variables"
   ]
  },
  {
   "cell_type": "markdown",
   "id": "16aaf14c",
   "metadata": {},
   "source": [
    "Se debe crear un objeto demominado *resultados*, esto sirve para añadan los resultados del scrapping."
   ]
  },
  {
   "cell_type": "code",
   "execution_count": 7,
   "id": "5a9914fe",
   "metadata": {},
   "outputs": [],
   "source": [
    "resultados = []"
   ]
  },
  {
   "cell_type": "markdown",
   "id": "4a6f6d70",
   "metadata": {},
   "source": [
    "Type() es para organizar información de datos en forma de lista."
   ]
  },
  {
   "cell_type": "code",
   "execution_count": 8,
   "id": "4a9a49de",
   "metadata": {},
   "outputs": [
    {
     "data": {
      "text/plain": [
       "list"
      ]
     },
     "execution_count": 8,
     "metadata": {},
     "output_type": "execute_result"
    }
   ],
   "source": [
    "type (resultados)"
   ]
  },
  {
   "cell_type": "markdown",
   "id": "5a4163ab",
   "metadata": {},
   "source": [
    "## División de los códigos para web scrapping"
   ]
  },
  {
   "cell_type": "markdown",
   "id": "26a38a87",
   "metadata": {},
   "source": [
    "## Impresión de titulares para El País"
   ]
  },
  {
   "cell_type": "markdown",
   "id": "7cf7db23",
   "metadata": {},
   "source": [
    "La variable para solicitar información de la URL será: req=requests.get (\"https://resultados.elpais.com\") "
   ]
  },
  {
   "cell_type": "code",
   "execution_count": 9,
   "id": "242b935d",
   "metadata": {},
   "outputs": [],
   "source": [
    "req = requests.get(\"https://resultados.elpais.com\")"
   ]
  },
  {
   "cell_type": "markdown",
   "id": "2c771821",
   "metadata": {},
   "source": [
    "Luego escribimos la función type() y es la respuesta de request."
   ]
  },
  {
   "cell_type": "code",
   "execution_count": 14,
   "id": "665a0ae6",
   "metadata": {},
   "outputs": [
    {
     "data": {
      "text/plain": [
       "requests.models.Response"
      ]
     },
     "execution_count": 14,
     "metadata": {},
     "output_type": "execute_result"
    }
   ],
   "source": [
    "type(req)"
   ]
  },
  {
   "cell_type": "markdown",
   "id": "95fa8f6e",
   "metadata": {},
   "source": [
    " **If** es el complemento de: **if(req.status_code != 200)**, código de respuesta de estado satisfactorio para la petición. Luego se extrae el texto HTML del sitio web con BeautifulSoup(req.text, 'html.parser')."
   ]
  },
  {
   "cell_type": "markdown",
   "id": "6d05dafb",
   "metadata": {},
   "source": [
    "Con findAll se guardará las etiquetas, los tags, que es el titular de la web y por último con **resultados.append(h2.text)** se van agregando todos dentro de las lista de titulares que hemos seleccionado."
   ]
  },
  {
   "cell_type": "code",
   "execution_count": 15,
   "id": "adcd7a84",
   "metadata": {},
   "outputs": [],
   "source": [
    "# Si el estatus code no es 200 no se puede leer la página\n",
    "if (req.status_code != 200):\n",
    " raise Exception(\"No se puede hacer Web Scraping en\"+ URL)\n",
    "soup = BeautifulSoup(req.text, 'html.parser')"
   ]
  },
  {
   "cell_type": "code",
   "execution_count": 16,
   "id": "39669e0b",
   "metadata": {
    "scrolled": false
   },
   "outputs": [
    {
     "name": "stdout",
     "output_type": "stream",
     "text": [
      "Estados Unidos mata al líder del ISIS en Siria en un ataque con dron\n",
      "López Obrador pide a Biden “audacia” con la inmigración\n",
      "Las carreteras de Colombia, Bolivia y Ecuador, entre las más lentas del mundo\n",
      "Pragmatismo en Argentina\n",
      "Una mejor manera de entender la relación México-Estados Unidos\n",
      "El sueño de San Martín y Bolívar y la profecía papal\n",
      "Educación híbrida: de la emergencia al cambio\n",
      "Las nuevas imágenes del telescopio ‘James Webb’ muestran planetas gigantes y galaxias chocando a altísima velocidad\n",
      "No son estrellas sino galaxias: guía rápida de la primera foto \n",
      "Las primeras imágenes del telescopio espacial\n",
      "Twitter califica de “inválida” la renuncia de Elon Musk a comprarla\n",
      "Boric anuncia una ayuda de 120 dólares para 7,5 millones de personas en medio de la crisis inflacionaria\n",
      "El dólar alcanza la paridad con el euro por primera vez en 20 años\n",
      "Luis Gilberto Murillo, nuevo embajador de Colombia en EE UU\n",
      "Nueva York se paraliza por el “Manhattanhenge”, la puesta de sol más fotografiada\n",
      "Una nueva era recesiva parece inevitable\n",
      "La política boliviana se “narcotiza” con acusaciones en todas las direcciones\n",
      "‘Succession’ y ‘Ted Lasso’ lideran las nominaciones a los Emmy 2022\n",
      "Pedro Sánchez anuncia impuestos a eléctricas y bancos y medidas sociales ante el golpe de la inflación en España\n",
      "Boris Johnson bloquea la moción de censura presentada por la oposición laborista \n",
      "\n",
      "Kiev y Jersón, dos errores que marcan el curso de la guerra en Ucrania\n",
      "Miles de japoneses despiden a Shinzo Abe tras un funeral privado \n",
      "El aeropuerto londinense de Heathrow restringe el número de vuelos hasta septiembre\n",
      "Uber intentó recaudar impuestos de sus conductores mientras desviaba millones a sociedades opacas\n",
      "El informante de ‘Uber Files’: “La empresa estaba dispuesta a romper todas las normas”\n",
      "Documentos secretos desvelan las estrategias de Uber para implantarse en decenas de países\n",
      "“Somos esclavos de Uber”: el coste para los conductores de un modelo de negocio imposible\n",
      "Las infinitas posibilidades de un tablero de ajedrez\n",
      "“No hay pensamiento sin tiempo para pensar”\n",
      "“En el hospital, la enseñanza es una medicina más”\n",
      "Óscar Marín: “Variando pequeñas piezas de la corteza cerebral se generan capacidades de superhéroe”\n",
      "La ingeniera que enseña a nuestro cuerpo a autorrepararse: “Hemos regenerado piel, cartílagos y vasos sanguíneos”\n",
      "Juan Carlos Blanco: “Ahora es casi imposible encontrar un cuento sobre un lobo malo”\n",
      "“Lo dieron todo y no tuvieron a nadie”: el filme que desvela la cara más oscura de ‘Kids’\n",
      "Polyforum Siqueiros: el sueño imposible de un empresario español y un pintor comunista\n",
      "Cómo el cine transformó a las diosas mitológicas en superheroínas\n",
      "El ‘Indiana Jones del arte’ encuentra en la puerta de su casa un relicario medieval robado \n",
      "Perder el tiempo, ganar la vida: un elogio de la distracción\n",
      "Marilyn Monroe hizo ricos a muchos hombres mientras se empobrecía: “No tuvo ni para un funeral decente”\n",
      "La respuesta de Florence Pugh a las feroces críticas a su pecho: “Respeten los cuerpos. Maduren”\n",
      "Pippa Middleton da a luz a su tercer hijo, una niña\n",
      "La máxima responsable del fútbol femenino en la UEFA: “El negocio no puede ser un copiar y pegar del masculino”\n",
      "El campeón olímpico Mo Farah revela que fue víctima de tráfico ilegal y explotación en Reino Unido\n",
      "Las tribulaciones de Cristiano Ronaldo pasan por Qatar\n",
      "Jamie Dimon, el banquero más poderoso: “Las cosas pueden ir mucho peor”\n",
      "Los 50 años de Sofia Vergara, la mujer que permitió que la encasillasen para convertirse en la actriz mejor pagada de la televisión\n",
      "La vida de Rodrigo Londoño tras el final del guerrillero Timochenko\n",
      "EL PAÍS América gana el Premio de la Asociación Mundial de Editores al mejor sitio de noticias de Latinoamérica\n",
      "Jamie Dimon, the world’s most powerful banker: ‘Things can get much worse. We are facing very problems’\n",
      "Father of shooting victim interrupts Biden’s gun safety speech \n",
      "US extends protected status to Venezuelan migrants\n",
      "Uber forged deals with top Putin allies in failed bid to break into Russian market\n",
      "James Webb space telescope: A guide to the first full-color image\n",
      "A better way to understand the US-Mexico relationship\n",
      "Travel nightmares: The Mexican tourist arrested with a gun in her suitcase\n",
      "Letras Americanas: la actualidad literaria de un continente vista por el escritor Emiliano Monge\n",
      "Americanas: Reportajes y noticias sobre feminismo e historias con enfoque de género de la región\n",
      "Toda la actualidad científica en el boletín de Materia\n",
      "Ideas: reportajes y entrevistas para entender el mundo\n",
      "El padre de una víctima de un tiroteo interrumpe a un Biden en sus horas más bajas\n",
      "La oposición francesa exige investigar los lazos de Macron con Uber\n",
      "El Partido Conservador endurece las normas de las primarias para acelerar la sustitución de Boris Johnson\n",
      "El dólar alcanza la paridad con el euro por primera vez en 20 años\n",
      "El aeropuerto londinense de Heathrow restringe el número de vuelos hasta septiembre \n",
      "Uber intentó recaudar impuestos de sus conductores mientras desviaba millones de euros a sociedades opacas\n",
      "Los contagios de la covid-19 se aceleran exponencialmente en México\n",
      "Human Rights Watch denuncia violaciones sistemáticas a los derechos humanos durante la represión de las protestas en Cuba\n",
      "Condenada a 60 años una exalcaldesa de Veracruz por matar a su sucesora\n",
      "‘Antes de que lleguen las nubes’: una novela negra nórdica con flamenco y ‘pescaíto’ frito\n",
      "El noble y valiente jefe shawnee Tecumseh lidera la nueva incursión de libros sobre los indios norteamericanos\n",
      "Beethoven veranea por fin en Noruega\n",
      "El tabú de la menopausia: “Hay vergüenza, preocupa ser identificadas como viejas o incapaces”\n",
      "Óvulos que se agotan y declive del esperma: todo lo que ignoramos sobre fertilidad hasta el momento de querer hijos\n",
      "Rosaly Lopes, la persona que más volcanes ha descubierto: “Puede haber vida en Titán” \n",
      "España lo tiene todo en el Mundial de hockey hierba\n",
      "Nadine Kessler, máxima responsable del fútbol femenino en la UEFA: “El negocio no puede ser un copiar y pegar del masculino”\n",
      "La Superliga, a los países contrarios a una competición cerrada: “Creen que la UEFA es solidaria, pero solo les da limosna”\n",
      "Si convence a un tercio de sus vecinos puede poner placas solares en la azotea: “El autoconsumo colectivo es imparable”\n",
      "En la lancha de los vigilantes del pulmón del Mediterráneo: “Está usted sobre una pradera de posidonia” \n",
      "El Papa urge a los jóvenes a comer menos carne “para salvar el medio ambiente”\n",
      "La inteligencia artificial de Google es capaz de aprender como un bebé\n",
      "Las activistas que dejaron sin anuncios a la web de Steve Bannon van ahora a por Fox News\n",
      "Jorge Stolfi: “Soy catedrático de informática. Como mis colegas, sé que la tecnología de bitcoin es basura”\n",
      "El Constitucional avala que los acusados del ‘procés’ no pudieran delegar su voto parlamentario\n",
      "Los delitos de tráfico aumentan pese al descenso de la movilidad y de los muertos en carretera\n",
      "El juez ordena buscar ADN en la ropa interior de las tres niñas de Alcàsser\n",
      "Sonsoles Ónega ficha por Atresmedia \n",
      "‘Disculpen a Almeida, quizá estaba viendo el Orgullo por la tele’, por Paloma Rando\n",
      "‘Un gran poder conlleva una gran corrupción’, por Jimina Sabadú\n",
      "Jennifer Lopez sufrió bloqueos y ataques de pánico por agotamiento que le hicieron cambiar sus hábitos de vida\n",
      "La DJ B Jones, de las noches en la carretera al olimpo de la música electrónica: “Ahora somos el centro de la fiesta” \n",
      "El espectáculo (teatral) debe continuar en la alta costura de París\n",
      "El Panamá indígena busca empoderar a sus mujeres\n",
      "Volver a la escuela tras dos años de pandemia\n",
      "El restaurante madrileño en el que la cocina gaditana y la francesa se enamoraron\n",
      "¿Dónde está exactamente el origen del mal?\n",
      "Alemanes, no tomar partido por Ucrania es ser parte. La respuesta del historiador Timothy Snyder a Jürgen Habermas\n",
      "Maneras de vivir después de muerto\n",
      "Los artesanos del coche del futuro son españoles\n",
      "Primas más altas para asegurar un mundo enloquecido\n",
      "Tristes, drogados, periféricos: la nueva literatura que refleja el dolor de los polígonos\n",
      "La ‘Safo’ de Christina Rosenvinge no convence\n",
      "Arte NFT para sacar de la cárcel a mujeres insolventes en Egipto\n",
      "Atrapados en la encrucijada migratoria de Agadez\n",
      "Cómo organizar un viaje al Amazonas, el destino de los grandes exploradores\n",
      "‘La casa de papel’ y ‘Valeria’, guías perfectas por la ciudad de Madrid\n",
      "Infidelidad financiera, cuando lo que se oculta es el extracto bancario\n",
      "De Olivia de Havilland a Raquel Welch: el biquini estuvo solo permitido a las grandes divas\n",
      "Róisín Murphy: “Los gays entienden la opresión de las mujeres. No se detienen ante nada”\n",
      "Rebecca Makkai: “Solo los extremistas creen que no se puede escribir desde otros puntos de vista”\n",
      "Ensalada de albaricoques, queso y lechuga\n",
      "Boquerones ‘amoragaos’: la receta de Granada en la que menos es más\n",
      "El Gobierno podrá vetar la compra de inmuebles por fondos extranjeros\n",
      "Iglesias, tras los audios de Villarejo: “No es grave porque me haya hecho daño a mí, sino a uno de los pilares de la democracia”\n",
      "Ponte a prueba con nuestros crucigramas, sopas de letras, sudokus y juegos arcade\n",
      "Momentazo en el Congreso: Feijóo saluda a Garzón y ojo a lo que hace Irene Montero\n",
      "Pablo Torre convence a Xavi\n",
      "‘Uber, el capitalismo salvaje de los que parten la pana’, por Sergio C. Fanjul\n"
     ]
    }
   ],
   "source": [
    "tags = soup.findAll(\"h2\")\n",
    "\n",
    "for h2 in tags:\n",
    "    print(h2.text)\n",
    "    resultados.append(h2.text)"
   ]
  },
  {
   "cell_type": "markdown",
   "id": "73179c6a",
   "metadata": {},
   "source": [
    "## Para los siguientes titulares realizamos los mismos pasos:"
   ]
  },
  {
   "cell_type": "markdown",
   "id": "d1384d21",
   "metadata": {},
   "source": [
    "## Impresión de titulares de opinión "
   ]
  },
  {
   "cell_type": "code",
   "execution_count": 17,
   "id": "d3cf16c6",
   "metadata": {
    "scrolled": true
   },
   "outputs": [
    {
     "name": "stdout",
     "output_type": "stream",
     "text": [
      "Multa a las constructoras\n",
      "Pragmatismo en Argentina\n",
      "La buena muerte\n",
      "¿El PSOE de antes?\n",
      "Entre líneas\n",
      "Hacerse cargo\n",
      "Preservar la cohesión social, prioridad económica\n",
      "A por todas… y a por todo\n",
      "Miguel Ángel\n",
      "Fausto en Downing Street\n",
      "Putin y el mar\n",
      "El don de la curiosidad\n",
      "Becas Ayuso: y ahora también un Ingreso Máximo Vital\n",
      "El Roto\n",
      "Peridis\n",
      "Flavita Banana\n",
      "Riki Blanco\n",
      "Sciammarella\n",
      "Planeta de Plástico, por Malagón\n",
      "Envía tu carta\n",
      "Si no hay castigo, se repetirá la jugada \n",
      "La empresa es el nuevo dogma\n",
      "Izquierdas, derechas y la casa sin barrer\n",
      "En la calle circulan rumores\n",
      "Opinar sin insultar\n",
      "Contra el conflicto de intereses, transparencia\n",
      "El defensor del lector contesta\n"
     ]
    }
   ],
   "source": [
    "req3 = requests.get(\"https://elpais.com/opinion\")\n",
    "# Si el estatus code no es 200 no se puede leer la página\n",
    "if (req.status_code != 200):\n",
    " raise Exception(\"No se puede hacer Web Scraping en\"+ URL)\n",
    "soup3 = BeautifulSoup(req3.text, 'html.parser')\n",
    "\n",
    "tags = soup3.findAll(\"h2\")\n",
    "\n",
    "for h2 in tags:\n",
    "    print(h2.text)\n",
    "    resultados.append(h2.text)"
   ]
  },
  {
   "cell_type": "markdown",
   "id": "f181593d",
   "metadata": {},
   "source": [
    "## Titulares para economía "
   ]
  },
  {
   "cell_type": "code",
   "execution_count": 18,
   "id": "3a8f971c",
   "metadata": {},
   "outputs": [
    {
     "name": "stdout",
     "output_type": "stream",
     "text": [
      "El temor a una recesión devuelve al euro a la paridad con el dólar\n",
      "La banca cierra en Bolsa con una caída cercana al 5% tras el nuevo impuesto anunciado por Sánchez \n",
      "Estas son las medidas anunciadas por Sánchez: impuesto a bancos y energéticas; abonos de Renfe gratis y complemento a las becas\n",
      "Marta Ortega en su primera junta como presidenta: “Inditex tiene aciertos y errores, pero nunca se detiene”\n",
      "Paridad inquietante\n",
      "El Supremo, contra los consumidores\n",
      "Las Bolsas y la ‘Quinta’ de Chaikovski\n",
      "Empresas grandes y sueldos diferentes\n",
      "Riesgos de recesión (y alguna luz)\n",
      "El dólar alcanza la paridad con el euro por primera vez en 20 años: ¿Cómo afecta eso a la economía?\n",
      "Cuatro de cada 10 municipios españoles no tienen acceso a servicios bancarios\n",
      "El aeropuerto londinense de Heathrow restringe el número de vuelos hasta septiembre \n",
      "La segunda tanda de paros en Ryanair provoca 15 cancelaciones y más de 200 retrasos \n",
      "Enagás invertirá casi 4.800 millones hasta 2030 para capear la crisis energética\n",
      "Twitter califica de “inválida e injusta” la renuncia de Elon Musk a comprarla \n",
      "Los trabajadores siguen perdiendo poder adquisitivo: en junio su salario creció ocho puntos menos que la inflación \n",
      "Los trabajadores de Paradores cobrarán un plus de dos millones por estar en su casa durante el confinamiento\n",
      "El préstamo pedido por un matrimonio sólo lo paga el cónyuge que lo utilizó\n",
      "Los artesanos del coche del futuro son españoles\n",
      "Primas más altas para asegurar un mundo enloquecido\n",
      "Jamie Dimon, el banquero más poderoso del mundo: “Los problemas económicos no son pasajeros. Las cosas pueden ir mucho peor”\n",
      "Ezentis se asoma al precipicio\n",
      "Vecinos al borde de un ataque de nervios: morosos que usan la piscina, trasteros que son despensas y ruidos diarios\n",
      "Caso Laso: ¿Me pueden echar tras sufrir un infarto?\n",
      "Remite el riesgo de estanflación\n",
      "El Ejecutivo acortará a tres meses el plazo para autorizar inversiones extranjeras\n",
      "Enagas confía en que España puede afrontar un corte total del suministro ruso\n",
      "Los caseros estudian fórmulas para reclamar al Estado 1.700 millones por el tope al IPC\n",
      "Cada 32 horas un nuevo municipio se queda sin oficina bancaria\n",
      "El préstamo pedido por un matrimonio sólo lo paga el cónyuge que lo utilizó\n",
      "No se puede desheredar a un familiar con el que no se tiene relación, según el Supremo\n",
      "Líos en la piscina comunitaria: normas y sentencias para un chapuzón seguro\n",
      "Música que transforma vidas y esboza futuros\n",
      "El futuro probable de una sociedad insostenible\n",
      "Francisco Javier Blasco: “Llevamos años sin mejorar la eficacia de las políticas activas de empleo”\n",
      "La hora del bienestar corporativo\n",
      "Cancerberos del bienestar de la empresa\n",
      "Cómo garantizar la seguridad en un mundo de amenazas híbridas\n",
      "¿Cuáles son los dilemas éticos del uso de la inteligencia artificial?\n",
      "Las aventuras de un par de calcetines que dan empleo a todo un pueblo\n",
      "Cultura financiera como punto de partida para volver a empezar\n",
      "¿Puede convertirse España en una de las potencias logísticas del futuro?\n",
      "Por qué digitalizar una pyme aporta más empleo\n",
      "‘Coopetir’: la actitud DFactory\n",
      "Así serán las ciudades de la (nueva) última milla\n",
      "Cinco errores habituales al digitalizar un negocio \n",
      "PERTE Agroalimentario: ¿cómo acceder a los fondos europeos?\n",
      "Fondos soberanos: ¿Cómo funcionan las cajas fuertes de los estados más ricos?\n",
      "¿Crisis de deuda mundial a la vista?\n",
      "El método Muñoz para triunfar en cada reto que se propone\n",
      "Gloria Ramos, cuando el afán de superación acaba en la alfombra roja \n",
      "Ocho ‘startups’ innovadoras con nombre propio\n",
      "Hotmart y su plataforma 360 para creadores de contenidos\n"
     ]
    }
   ],
   "source": [
    "req5 = requests.get(\"https://elpais.com/economia/\")\n",
    "# Si el estatus code no es 200 no se puede leer la página\n",
    "if (req.status_code != 200):\n",
    " raise Exception(\"No se puede hacer Web Scraping en\"+ URL)\n",
    "soup5 = BeautifulSoup(req5.text, 'html.parser')\n",
    "\n",
    "tags = soup5.findAll(\"h2\")\n",
    "\n",
    "for h2 in tags:\n",
    "    print(h2.text)\n",
    "    resultados.append(h2.text)"
   ]
  },
  {
   "cell_type": "markdown",
   "id": "41804250",
   "metadata": {},
   "source": [
    "## Titulares para sociedad"
   ]
  },
  {
   "cell_type": "code",
   "execution_count": 19,
   "id": "e81ecb61",
   "metadata": {
    "scrolled": true
   },
   "outputs": [
    {
     "name": "stdout",
     "output_type": "stream",
     "text": [
      "Las claves de una ola de calor que desafía todos los récords de intensidad, extensión y duración\n",
      "Los sanfermines de este año registran su primera denuncia por violación\n",
      "Pamplona sale a la calle contra la violación denunciada el sábado en San Fermín\n",
      "Educación híbrida: de la emergencia a la transformación \n",
      "Jóvenes atrapados en el efecto cicatriz\n",
      "La libertad guiando (dicen) a la escuela\n",
      "El control del cuerpo de las mujeres\n",
      "Hong Kong impondrá un brazalete electrónico para controlar las cuarentenas en casa de positivos de coronavirus\n",
      "El Tribunal Supremo avala el indulto parcial de Juana Rivas\n",
      "Absuelto un conductor que se dio a la fuga tras arrollar a un ciclista: “Te sientes atropellado por el coche y la justicia”\n",
      "Europa amplía la vacunación contra la viruela del mono a las personas con prácticas sexuales de riesgo ante el alza de casos\n",
      "El deporte ya no es solo deporte: el sector atrae todo tipo de perfiles profesionales\n",
      "Juan Carlos Blanco: “Ahora es casi imposible encontrar un cuento sobre un lobo malo”\n",
      "Si convence a un tercio de sus vecinos puede poner placas solares en la azotea: “El autoconsumo colectivo es imparable”\n",
      "Rusia perseguirá la difusión pública de manifestaciones de afecto entre homosexuales y de apoyo al colectivo LGTBI\n",
      "Gabriela Ossenbach, experta en manuales escolares: “Con los libros de texto se puede crear fácilmente alarma social, pero no está justificada”\n",
      "El Papa urge a los jóvenes a comer menos carne “para salvar el medio ambiente”\n",
      "Madres solas con menos de mil euros al mes: cuando las vacaciones no son una opción\n",
      "Residuos para mover el mundo\n",
      "Se buscan profesionales en economía circular\n",
      "¿Por qué hablar de VIH en el Orgullo y no en los sanfermines?\n",
      "Mitos, falsedades, bulos y realidades sobre el VIH 40 años después\n",
      "Qué son las evidencias científicas y por qué están revolucionando la educación\n",
      "Munic, el joven redimido por el trap\n",
      "El tremendo peso de la obesidad en España\n",
      "Interactivo | Los 14 cambios en los aeropuertos españoles que no ves y que ya están ocurriendo\n",
      "Encontrar empleo pese a los obstáculos. Por dónde empezar la búsqueda\n",
      "La fórmula de Carboneros para evitar el éxodo rural: trabajar cuidando a los vecinos \n",
      "Consejos y cuidados para el primer verano con un gatito o un perrito\n",
      "¿Qué tienen en común perros y gatos cuando son cachorros?\n",
      "La guía definitiva para alimentarnos mejor (y cuidar nuestra salud y la del planeta)\n",
      "El metro como refugio. De los andenes de Madrid en 1936 a los de Kiev en 2022\n",
      "La salud mental de los refugiados: cómo abrirse para cerrar las heridas\n",
      "Yogures con menos azúcar, paso firme hacia la alimentación infantil del futuro\n",
      "Conectada con el mercado laboral y tecnológica: así es la universidad del presente\n",
      "Así es la formación más abierta y flexible, a prueba de crisis\n"
     ]
    }
   ],
   "source": [
    "req6 = requests.get(\"https://elpais.com/sociedad/\")\n",
    "# Si el estatus code no es 200 no se puede leer la página\n",
    "if (req.status_code != 200):\n",
    " raise Exception(\"No se puede hacer Web Scraping en\"+ URL)\n",
    "soup6 = BeautifulSoup(req6.text, 'html.parser')\n",
    "\n",
    "tags = soup6.findAll(\"h2\")\n",
    "\n",
    "for h2 in tags:\n",
    "    print(h2.text)\n",
    "    resultados.append(h2.text)"
   ]
  },
  {
   "cell_type": "markdown",
   "id": "0f3dfab3",
   "metadata": {},
   "source": [
    "## Titulares educación "
   ]
  },
  {
   "cell_type": "code",
   "execution_count": 20,
   "id": "f37f4f6d",
   "metadata": {
    "scrolled": true
   },
   "outputs": [
    {
     "name": "stdout",
     "output_type": "stream",
     "text": [
      "Educación híbrida: de la emergencia a la transformación \n",
      "El deporte ya no es solo deporte: el sector atrae todo tipo de perfiles profesionales\n",
      "Gabriela Ossenbach, experta en manuales escolares: “Con los libros de texto se puede crear fácilmente alarma social, pero no está justificada”\n",
      "La libertad guiando (dicen) a la escuela\n",
      "Intento de rebelión de los directores de primaria de Cataluña por los nuevos horarios de septiembre\n",
      "La escalada vertiginosa de notas en Bachillerato: los sobresalientes de los que llegan a Selectividad se doblan en seis años\n",
      "El 60% del dinero destinado a becas educativas en Madrid será para los centros privados\n",
      "El 60% de los universitarios no se ve preparado para un mercado laboral que no encuentra los perfiles necesarios  \n",
      "¿Cómo se cierra un colegio público?\n",
      "¿Hay que obligar a los niños a hacer deberes en verano? Los expertos recomiendan actividades que no se parezcan a las tareas escolares\n",
      "Los sindicatos educativos catalanes convocan huelga el 7 de septiembre, primer día de curso en los institutos, y el 28\n",
      "Sin currículos\n",
      "La escuela concertada ante las desigualdades: el debate pendiente\n",
      "La equidad frente a las políticas educativas de privatización en Andalucía\n",
      "No hay lunes al sol en la Universidad\n",
      "El nuevo sistema para evaluar los conocimientos digitales de los profesores valdrá en toda España\n",
      "Ofrecer comedor gratis en todos los colegios públicos es “alcanzable y urgente”: costaría 1.664 millones al año, según la ONG Educo  \n",
      "Una fórmula para que la escuela pública compita mejor con la concertada\n",
      "La pérdida de alumnos por el descenso de la natalidad está afectando con más fuerza a la escuela pública que a la concertada\n",
      "La escalada vertiginosa de notas en Bachillerato: los sobresalientes de los que llegan a Selectividad se doblan en seis años\n",
      "El caso de Georgia, en EE UU: becar sin importar la renta agranda la desigualdad\n",
      "El techo de cristal del grado medio de FP: candidatos demasiado preparados se quedan con los puestos\n",
      "La implantación del nuevo Bachillerato general fracasa pese a su demanda potencial: “Creímos que lo pedirían seis alumnos y lo han hecho 27”\n",
      "Toni Solano, director de instituto: “Veo mal a los niños, necesitan muchísima ayuda”\n",
      "Una historia en la que caben Alaska, García Lorca, Suárez y Popper: la Universidad Internacional Menéndez Pelayo cumple 90 años \n",
      "Subirats reinterpreta la ley de Universidades: freno a la precariedad, facilidades para los alumnos extranjeros y ciencia abierta\n",
      "Las universitarias desertan del grado de Matemáticas ahora que tiene pleno empleo. ¿Por qué?\n",
      "Golpe a la temporalidad en las universidades: 25.000 profesores asociados serán indefinidos a tiempo parcial\n",
      "Las infinitas posibilidades de un tablero de ajedrez\n",
      "“No hay pensamiento sin tiempo para pensar”\n",
      "“En el hospital, la enseñanza es una medicina más”\n"
     ]
    }
   ],
   "source": [
    "req7 = requests.get(\"https://elpais.com/educacion/\")\n",
    "# Si el estatus code no es 200 no se puede leer la página\n",
    "if (req.status_code != 200):\n",
    " raise Exception(\"No se puede hacer Web Scraping en\"+ URL)\n",
    "soup7 = BeautifulSoup(req7.text, 'html.parser')\n",
    "\n",
    "tags = soup7.findAll(\"h2\")\n",
    "\n",
    "for h2 in tags:\n",
    "    print(h2.text)\n",
    "    resultados.append(h2.text)"
   ]
  },
  {
   "cell_type": "markdown",
   "id": "bc08a254",
   "metadata": {},
   "source": [
    "## Titulares clima y medio ambiente"
   ]
  },
  {
   "cell_type": "code",
   "execution_count": 21,
   "id": "1f74c99d",
   "metadata": {
    "scrolled": true
   },
   "outputs": [
    {
     "name": "stdout",
     "output_type": "stream",
     "text": [
      "Las claves de una ola de calor que desafía todos los récords de intensidad, extensión y duración\n",
      "Absuelto un conductor que se dio a la fuga tras arrollar a un ciclista: “Te sientes atropellado por el coche y la justicia”\n",
      "El incendio en la comarca cacereña de Las Hurdes sigue sin control tras el desalojo de 400 personas\n",
      "Juan Carlos Blanco: “Ahora es casi imposible encontrar un cuento sobre un lobo malo”\n",
      "Si convence a un tercio de sus vecinos puede poner placas solares en la azotea: “El autoconsumo colectivo es imparable”\n",
      "El Papa urge a los jóvenes a comer menos carne “para salvar el medio ambiente”\n",
      "Segunda ola calor del verano: al menos cuatro días con máximas de hasta 46° y noches tórridas a más de 25°\n",
      "Europa baraja eliminar el biodiésel de soja y palma para frenar la deforestación tropical\n",
      "Portugal se enfrenta a una oleada de incendios que han afectado ya a 6.400 hectáreas\n",
      "En la lancha de los vigilantes del pulmón del Mediterráneo: “Está usted sobre una pradera de posidonia” \n",
      "La sobrexplotación amenaza a las especies silvestres de las que dependen miles de millones de personas en el mundo\n",
      "Un plan de retirada  \n",
      "Crisis energética y precios del carbono\n",
      "La lección del martín pescador para afrontar la crisis ecológica\n",
      "Estocolmo+50: mirar atrás para tomar impulso\n",
      "Ríos imposibles: las 171.000 barreras que rompen el curso de agua en España\n",
      "La UE abraza las renovables para romper la dependencia de Rusia\n",
      "La lucha en un pueblo de Teruel para salvar su última montaña\n",
      "¿Qué aire respiran los niños de Madrid y Barcelona? En el 46% de los colegios se supera la contaminación permitida\n",
      "Las infinitas posibilidades de un tablero de ajedrez\n",
      "“No hay pensamiento sin tiempo para pensar”\n",
      "“En el hospital, la enseñanza es una medicina más”\n"
     ]
    }
   ],
   "source": [
    "req8 = requests.get(\"https://elpais.com/clima-y-medio-ambiente/\")\n",
    "# Si el estatus code no es 200 no se puede leer la página\n",
    "if (req.status_code != 200):\n",
    " raise Exception(\"No se puede hacer Web Scraping en\"+ URL)\n",
    "soup8 = BeautifulSoup(req8.text, 'html.parser')\n",
    "\n",
    "tags = soup8.findAll(\"h2\")\n",
    "\n",
    "for h2 in tags:\n",
    "    print(h2.text)\n",
    "    resultados.append(h2.text)\n",
    "\n"
   ]
  },
  {
   "cell_type": "markdown",
   "id": "90c8b6e5",
   "metadata": {},
   "source": [
    "## Titulares de tecnología"
   ]
  },
  {
   "cell_type": "code",
   "execution_count": 32,
   "id": "9b6922c3",
   "metadata": {},
   "outputs": [
    {
     "name": "stdout",
     "output_type": "stream",
     "text": [
      "Google News está de vuelta en España: qué es y cómo exprimirlo al máximo\n",
      "Dialexis (‘mater ex machina’)\n",
      "La ingeniera que enseña a nuestro cuerpo a autorrepararse: “Hemos regenerado piel, cartílagos y vasos sanguíneos, pero todavía tenemos que hacer más”\n",
      "La inteligencia artificial de Google es capaz de aprender como un bebé\n",
      "Las activistas que dejaron sin anuncios a la web de Steve Bannon van ahora a por Fox News\n",
      "“¿Quieres cobrar tu salario en streaming?” Por qué los proyectos cripto son tan difíciles de entender\n",
      "El misterio de la carta del soldado alemán\n",
      "El porqué de los desafíos criptográficos: conocerte a ti mismo, conocer a tu enemigo\n",
      "Con el relax del verano se acentúan los peligros cibernéticos: así puede protegerse durante las vacaciones\n",
      "Meta presenta un traductor capaz de operar en tiempo real con 200 idiomas\n",
      "“Soy catedrático de informática. Como mis colegas, sé que la tecnología de bitcoin es basura”\n",
      "El sector biotecnológico supera las cifras de 2020 y capta 180 millones de euros de inversión privada\n",
      "Las mentes humanas detrás de las mentes artificiales\n",
      "El juego de la técnica\n",
      "Daniel Innerarity: “Los algoritmos son conservadores y nuestra libertad depende de que nos dejen ser imprevisibles”\n",
      "En defensa de la procrastinación. Elogio del tiempo perdido (frente al que las redes te roban)\n",
      "Instagram, el mejor de los mundos posibles\n",
      "Del terrorismo youtuber al influencer rabioso: el odio inunda la red\n",
      "Cronodiversidad. ¿Por qué el tiempo cada vez va más rápido?\n",
      "El impacto de la tecnología en la hostelería: de la comanda digital al pago con código QR\n",
      "Herramientas que ayudan a crecer a las empresas (más allá de los pagos)\n",
      "Cinco razones por las que este ‘smartphone’ es sencillamente tentador\n",
      "La cámara de este ‘smartphone’ es pura magia\n",
      "Por qué los nuevos coches ya no los diseñarán las personas\n",
      "Un campus de programación para adquirir todas las habilidades ‘tech’\n"
     ]
    }
   ],
   "source": [
    "req13 = requests.get(\"https://elpais.com/tecnologia/\")\n",
    "# Si el estatus code no es 200 no se puede leer la página\n",
    "if (req.status_code != 200):\n",
    " raise Exception(\"No se puede hacer Web Scraping en\"+ URL)\n",
    "soup13 = BeautifulSoup(req13.text, 'html.parser')\n",
    "\n",
    "tags = soup13.findAll(\"h2\")\n",
    "\n",
    "for h2 in tags:\n",
    "    print(h2.text)\n",
    "    resultados.append(h2.text)\n"
   ]
  },
  {
   "cell_type": "markdown",
   "id": "556b5e7a",
   "metadata": {},
   "source": [
    "\n",
    "## Titulares sección España"
   ]
  },
  {
   "cell_type": "code",
   "execution_count": 33,
   "id": "f19cc79a",
   "metadata": {},
   "outputs": [
    {
     "name": "stdout",
     "output_type": "stream",
     "text": [
      "Sánchez anuncia impuestos a eléctricas y bancos y medidas sociales ante el golpe de la inflación\n",
      "Inflación, paro, precio de la energía: guía para entender el estado de la nación antes del debate \n",
      "El ‘caso Esther López’, tras las huellas de un atropello mortal\n",
      "Ante la crisis, ¿gestionas o lideras?\n",
      "El almirante Cervera y el honor de España\n",
      "El Gran Retroceso\n",
      "Santa Bárbara y la cultura de la defensa\n",
      "¿Es posible disentir de esta retórica belicista?\n",
      "Audio filtrado de un minuto de silencio\n",
      "El vocabulario del presidente, mirado con lupa  \n",
      "Gamarra desviste a Feijóo con el estilo Casado\n",
      "Los socios usarán el debate para exigir a Sánchez una reforma fiscal de izquierdas\n",
      "Gamarra equipara el espíritu de Ermua tras el asesinato de Miguel Ángel Blanco a la oposición al Gobierno de Sánchez\n",
      "Abascal hace guiños a Feijóo para construir una “alternativa real” a Sánchez \n",
      "El incendio en la comarca cacereña de Las Hurdes sigue sin control tras el desalojo de 400 personas\n",
      "La policía recupera el cadáver de una mujer con signos de violencia en una alcantarilla de Málaga\n",
      "Argelia desplaza a París a su antiguo embajador en Madrid\n",
      "La ola de calor entra en su fase crítica con un aviso rojo en Galicia por máximas de 42° \n",
      "Los delitos de tráfico aumentan pese al descenso de la movilidad y de los muertos en carretera\n",
      "Un paraíso en el que avistar más de 20 especies de cetáceos\n",
      "El secreto de Fuerteventura se hace viral: la ‘playa de las palomitas’\n",
      "Un vino para triunfar entre los mileniales\n",
      "Artesanía y cultura que conquista a las ‘influencers’\n",
      "Más allá de la capital. El triunfo de la vida rural madrileña\n"
     ]
    }
   ],
   "source": [
    "req4 = requests.get(\"https://elpais.com/espana/\")\n",
    "# Si el estatus code no es 200 no se puede leer la página\n",
    "if (req.status_code != 200):\n",
    " raise Exception(\"No se puede hacer Web Scraping en\"+ URL)\n",
    "soup4 = BeautifulSoup(req4.text, 'html.parser')\n",
    "\n",
    "tags = soup4.findAll(\"h2\")\n",
    "\n",
    "for h2 in tags:\n",
    "    print(h2.text)\n",
    "    resultados.append(h2.text)"
   ]
  },
  {
   "cell_type": "markdown",
   "id": "991cf987",
   "metadata": {},
   "source": [
    "## Titulares sección cultura"
   ]
  },
  {
   "cell_type": "code",
   "execution_count": 34,
   "id": "385349e4",
   "metadata": {
    "scrolled": true
   },
   "outputs": [
    {
     "name": "stdout",
     "output_type": "stream",
     "text": [
      "‘Antes de que lleguen las nubes’: una novela negra nórdica con flamenco y ‘pescaíto’ frito\n",
      "Cientos de afectados al comprar entradas para un concierto de Maluma que estaba cancelado\n",
      "Muere el exministro José Guirao, referente de la gestión cultural en España\n",
      "Fallecimiento de José Guirao: Con las alas de la cultura\n",
      "El libro que vendrá\n",
      "Muerte de José Guirao: Poner nombre a los árboles \t\t \n",
      "Fallecimiento de José Guirao: A tu sonrisa, Pepe\n",
      "El ‘Indiana Jones del arte’ encuentra en la puerta de su casa un relicario medieval robado \n",
      "Los límites del cine estallan en Tabakalera\n",
      "El Prado se inventa un paseo entre las estrellas\n",
      "Nuevo urbanismo cívico y digital\n",
      "El Gobierno pone en marcha la creación de la Oficina de Derechos de Autor\n",
      "Un homenaje a Ucrania, una pianista legendaria y un ‘tour de force’ violinístico culminan el Festival de Música y Danza \n",
      "El noble y valiente jefe shawnee Tecumseh lidera la nueva incursión de libros sobre los indios norteamericanos\n",
      "Beethoven veranea por fin en Noruega\n",
      "Descubierta una desconocida ciudad romana con “edificios de proporciones monumentales” al pie de los Pirineos\n",
      "Huracán Nathy Peluso cierra a lo grande el Mad Cool de la tortuosa vuelta a casa\n",
      "Blanca Berlín: “Hay más divismo entre los fotógrafos que empiezan”\n",
      "‘Outlander’, la historia de amor de 200 años, prepara en España su recta final\n",
      "J Balvin y su buena “vibra” llegan para quedarse al Bilbao BBK Live\n",
      "Cuándo un gallego te dice que sí, aunque esté pensando que no. La retranca gallega y otros misterios que descubrir en el Camino Inglés\n",
      "El último atardecer de Europa se ve solo desde este lugar. Un viaje hacia el infinito por el Camino de Fisterra-Muxía\n",
      "Lorca, en la ciudad al margen\n",
      "El Pirineo oscense, para entrar a vivir\n",
      "Toda la lectura del verano, en el bolsillo\n",
      "Longsellers: los libros más vendidos a lo largo de la historia\n",
      "Libros para descubrir el mundo recomendados por Benjamín Prado\n",
      "El exilio republicano en el Museo Reina Sofía\n",
      "'La fotógrafa de Monte Veritá'\n",
      "'KLIMT. La experiencia inmersiva'\n",
      "'Nabucco' desde un palco del Teatro Real\n",
      "El sexto encierro de San Fermín 2022, en imágenes\n",
      "Cinco heridos, uno de ellos por asta, en el rápido y emocionante sexto encierro de San Fermín \n",
      "Un torero de Pamplona\n",
      "Muy peligroso y emocionante quinto encierro de San Fermín con los toros de Cebada Gago\n"
     ]
    }
   ],
   "source": [
    "req10 = requests.get(\"https://elpais.com/cultura/\")\n",
    "# Si el estatus code no es 200 no se puede leer la página\n",
    "if (req.status_code != 200):\n",
    " raise Exception(\"No se puede hacer Web Scraping en\"+ URL)\n",
    "soup10 = BeautifulSoup(req10.text, 'html.parser')\n",
    "\n",
    "tags = soup10.findAll(\"h2\")\n",
    "\n",
    "for h2 in tags:\n",
    "    print(h2.text)\n",
    "    resultados.append(h2.text)"
   ]
  },
  {
   "cell_type": "markdown",
   "id": "8212d2fc",
   "metadata": {},
   "source": [
    "## Titulares sección babelia"
   ]
  },
  {
   "cell_type": "code",
   "execution_count": 35,
   "id": "a10ce128",
   "metadata": {},
   "outputs": [
    {
     "name": "stdout",
     "output_type": "stream",
     "text": [
      "Cómo el cine transformó a las diosas mitológicas en superheroínas\n",
      "Tristes, drogados, periféricos: la nueva literatura que refleja el dolor de los polígonos\n",
      "La fuga de Siberia de Trotsky, la revelación de Marta D. Riezu y otros libros de la semana\n",
      "El desvío experimental de Perfume Genius, los salmos de Nick Cave y otros discos del mes\n",
      "Jardines secretos en la jungla de asfalto: cómo resistir a la especulación plantando un árbol\n",
      "Los nuevos diaristas son vendedores de vidas\n",
      "La ‘Safo’ de Christina Rosenvinge no convence\n",
      "La gran música eleva a una compañía de danza inmadura\n",
      "Trampantojo: De veraneo\n",
      "‘Agua y jabón’: más que un libro, una constelación de genialidades\n",
      "Ayn Rand, ‘rednecks’ e inclusividad forzada: el mundo virtual como escenario político\n",
      "Un clavo quita otro, quizás\n",
      "Músicas ocultas\n",
      "Lo que siento (no se olviden de Ucrania) \n",
      "No eran marcianos, eran humanos\n",
      "‘La máquina de proyectar sueños’, un retorno a la infancia delicioso y temible\n",
      "‘Veinte años de Sol’ o cómo olvidar el pasado con un implante en el cerebro\n",
      "‘La fuga de Siberia en un trineo de renos’, de Trotsky: aventuras de un comunista en plena huida \n",
      "‘Magallanes & Co.’, los preparativos y aventuras de la primera vuelta al mundo\n",
      "Silvia Agüero: “De no ser escritora habría sido vendedora ambulante”\n",
      "Antoni Muntadas: “Supe que me dedicaría al arte cuando dejé de pintar”\n",
      "Manuel Estrada: “Me agrada que una portada guste más después de leer el libro”\n",
      "Óscar Esquivias: “No hace falta ser creyente para leer la Biblia”\n",
      "Amelia Castilla: “Los ritos nos ayudan a hacer viable el trance de la muerte”\n"
     ]
    }
   ],
   "source": [
    "req11 = requests.get(\"https://elpais.com/babelia/\")\n",
    "# Si el estatus code no es 200 no se puede leer la página\n",
    "if (req.status_code != 200):\n",
    " raise Exception(\"No se puede hacer Web Scraping en\"+ URL)\n",
    "soup11 = BeautifulSoup(req11.text, 'html.parser')\n",
    "\n",
    "tags = soup11.findAll(\"h2\")\n",
    "\n",
    "for h2 in tags:\n",
    "    print(h2.text)\n",
    "    resultados.append(h2.text)"
   ]
  },
  {
   "cell_type": "markdown",
   "id": "f060e994",
   "metadata": {},
   "source": [
    "## Titulares sección deportes"
   ]
  },
  {
   "cell_type": "code",
   "execution_count": 36,
   "id": "3d8666d0",
   "metadata": {},
   "outputs": [
    {
     "name": "stdout",
     "output_type": "stream",
     "text": [
      "Eurocopa femenina 2022, en directo | Alemania golpea de nuevo a España antes del descanso\n",
      "La UEFA: “La Superliga fracasó porque los aficionados europeos aprecian el sistema actual”\n",
      "El campeón olímpico Mo Farah revela que fue víctima de tráfico ilegal y explotación en Reino Unido\n",
      "Las tribulaciones de Cristiano Ronaldo pasan por Qatar  \n",
      "Cuánto tarda en hervir un Tour\n",
      "El tenis es, ante todo, repetición\n",
      "El desorden es la baza de Kyrgios\n",
      "Luis León ataca, pero la etapa del Tour de Francia la gana Cort y Pogacar no suelta el amarillo\n",
      "El viaje de Jon Rahm a Saint Andrews: de la furgoneta a Seve\n",
      "Nadine Kessler, máxima responsable del fútbol femenino en la UEFA: “El negocio no puede ser un copiar y pegar del masculino”\n",
      "El Tour de Francia 2022 es el más rápido de la historia gracias a la aerodinámica\n",
      "La Superliga, a los países contrarios a una competición cerrada: “Creen que la UEFA es solidaria, pero solo les da limosna”\n",
      "España lo tiene todo en el Mundial de hockey hierba\n",
      "Inglaterra tritura (8-0) a Noruega en una jornada triunfal en Brighton\n",
      "Gareth Bale, tras su llegada al LAFC: “Mi objetivo es ganar un campeonato”\n",
      "Londres reestimula a Sir Novak Djokovic\n",
      "El equilibrio de Jordi Cruyff\n",
      "Severiano Ballesteros, el inglés\n",
      "El granítico Djokovic detiene a Kyrgios y eleva en Wimbledon su 21º grande\n",
      "El equilibrio de Jordi Cruyff\n",
      "“Si no tenemos en quién mirarnos es muy difícil saber qué queremos ser”\n",
      "“Nunca acepto un no por respuesta”\n",
      "La nadadora que dejó de competir para hacer campeones de básquet\n",
      "Crónica de dos ciudades moldeadas por la misma pasión \n",
      "España roza la gesta en el Mundial de baloncesto sub-17 ante la todopoderosa EEUU (67-79)\n",
      "Djokovic: “Solo necesitaba tiempo para despejar la tormenta”\n",
      "Guélfand reina en León por 2º año seguido, a los 54, tras más de cuatro horas trepidantes\n",
      "El tenis es, ante todo, repetición\n",
      "El granítico Djokovic detiene a Kyrgios y eleva en Wimbledon su 21º grande\n",
      "Cuando la memoria se enreda\n",
      "Reacciones de la final de Wimbledon | Djokovic, tras igualar los siete títulos de Sampras: “Siempre soñé con jugar aquí. Ganarlo es un orgullo”\n",
      "La final de Wimbledon 2022 entre Djokovic y Kyrgios, en imágenes\n"
     ]
    }
   ],
   "source": [
    "req12 = requests.get(\"https://elpais.com/deportes/\")\n",
    "# Si el estatus code no es 200 no se puede leer la página\n",
    "if (req.status_code != 200):\n",
    " raise Exception(\"No se puede hacer Web Scraping en\"+ URL)\n",
    "soup12 = BeautifulSoup(req12.text, 'html.parser')\n",
    "\n",
    "tags = soup12.findAll(\"h2\")\n",
    "\n",
    "for h2 in tags:\n",
    "    print(h2.text)\n",
    "    resultados.append(h2.text)"
   ]
  },
  {
   "cell_type": "markdown",
   "id": "875e5f69",
   "metadata": {},
   "source": [
    "## Titulares sección gente"
   ]
  },
  {
   "cell_type": "code",
   "execution_count": 39,
   "id": "11ffb9c5",
   "metadata": {
    "scrolled": true
   },
   "outputs": [
    {
     "name": "stdout",
     "output_type": "stream",
     "text": [
      "La DJ B Jones, de las noches en la carretera al olimpo de la música electrónica: “Ahora somos el centro de la fiesta” \n",
      "Marilyn Monroe hizo ricos a muchos hombres mientras se empobrecía: “No tuvo ni para un funeral decente”\n",
      "Pippa Middleton da a luz a su tercer hijo, una niña\n",
      "Huertos urbanos: siete errores de principiante y cómo evitarlos \n",
      "Jennifer Lopez sufrió bloqueos y ataques de pánico por agotamiento que le hicieron cambiar sus hábitos de vida\n",
      "10 accesorios de piscina para no salir de su perímetro 24/7\n",
      "De Kate Middleton a Tom Cruise: los famosos llenan las gradas de Wimbledon, en imágenes\n",
      "Espectáculo, lujo y fantasía: la Alta Moda de Dolce & Gabbana lo apuesta todo al escapismo\n",
      "Los 50 años de Sofia Vergara, la mujer que permitió que la encasillasen para convertirse en la actriz mejor pagada de la televisión\n",
      "La guerra no estropea las vacaciones de los superricos rusos: vetados en la Costa Azul, pero bienvenidos en Dubái y Turquía\n",
      "Teresa Helbig: “Hubiera matado por vestir a Lola Flores”\n",
      "Hotel Piet Hein Eek: arte, buen gusto y pasión por el detalle en Eindhoven \n",
      "El Baile de la Rosa vuelve a llenar Mónaco de glamur y famosos tras dos años de parón\n",
      "El espectáculo (teatral) debe continuar en la alta costura de París\n",
      "Realismo, entretenimiento y democracia: la alta costura se deshace por fin de sus estereotipos en París\n",
      "Nostalgia ‘retro’, punto multicolor y otras pistas para vestir este verano\n",
      "La dictadura de la perfección, misoginia y Jeffrey Epstein: los ángeles y demonios de Victoria’s Secret\n",
      "Dios y diamantes: lo que Kendrick Lamar nos quiso decir a través de su corona de espinas\n",
      "La cocinera que trasladó las flores del jarrón al plato\n",
      "En verano, el mejor queso del mundo se hace helado\n",
      "El placer de lo rancio y otros gustos y aromas que recuerdan la niñez\n",
      "Trece aperitivos\n"
     ]
    }
   ],
   "source": [
    "req15 = requests.get(\"https://elpais.com/gente/\")\n",
    "# Si el estatus code no es 200 no se puede leer la página\n",
    "if (req.status_code != 200):\n",
    " raise Exception(\"No se puede hacer Web Scraping en\"+ URL)\n",
    "soup15 = BeautifulSoup(req15.text, 'html.parser')\n",
    "\n",
    "tags = soup15.findAll(\"h2\")\n",
    "\n",
    "for h2 in tags:\n",
    "    print(h2.text)\n",
    "    resultados.append(h2.text)"
   ]
  },
  {
   "cell_type": "markdown",
   "id": "c39da752",
   "metadata": {},
   "source": [
    "## Titulares sección televisión"
   ]
  },
  {
   "cell_type": "code",
   "execution_count": 40,
   "id": "4f822414",
   "metadata": {},
   "outputs": [
    {
     "name": "stdout",
     "output_type": "stream",
     "text": [
      "‘Succession’ y ‘Ted Lasso’ lideran las nominaciones a los Emmy 2022\n",
      "Todos los nominados a los premios Emmy 2022\n",
      "El secreto de ‘Atrápame si puedes’, el concurso de Aragón TV que tiene más éxito que ‘Pasapalabra’\n",
      "Disculpen a Almeida, quizá estaba viendo el Orgullo por la tele\n",
      "Un gran poder conlleva una gran corrupción\n",
      "La guerra de los selfis\n",
      "Menos mal que quedan los libros\n",
      "Sonsoles Ónega ficha por Atresmedia \n",
      "Cine y series: los datos prueban que no son universos tan conectados como parece\n",
      "‘The Janes’: la red clandestina de mujeres que practicaba abortos ilegales en el Estados Unidos de los años sesenta\n",
      "Carlos Fernández: “Netflix quiere ser de mayor una televisión en abierto, pero de pago” \n",
      "Muere a los 79 años Tony Sirico, Paulie en ‘Los Soprano’\n",
      "‘Encerrado con el diablo’: Dennis Lehane busca en el fondo del alma humana\n",
      "‘La noche más larga’ y ‘La lista final’: palomitas sin sabor para el verano\n",
      "Los dilemas de ‘La firma de Dios’: ¿y si el virus detrás de una pandemia tuviera conciencia y voluntad propia?\n",
      "Arturo Valls pasa de presentador a recluso por rebasar los límites del humor en ‘Dos años y un día’\n",
      "Podium Podcast estrena web con más de 400 contenidos y nuevo diseño\n",
      "¿Qué ver hoy en TV? Martes 12 de julio de 2022\n",
      "Nueve capítulos para recordar ‘The Wire’ en su 20º aniversario\n",
      "Harry Palmer: el tercer vértice del mágico triángulo de espías británicos\n",
      "Las series de junio de 2022: ‘The Boys’ en Amazon Prime Video; ‘Peaky Blinders’ en Netflix y otras\n",
      "La fuerza acompaña a ‘Obi-Wan Kenobi’, una serie deslumbrante\n"
     ]
    }
   ],
   "source": [
    "req16 = requests.get(\"https://elpais.com/television/\")\n",
    "# Si el estatus code no es 200 no se puede leer la página\n",
    "if (req.status_code != 200):\n",
    " raise Exception(\"No se puede hacer Web Scraping en\"+ URL)\n",
    "soup16 = BeautifulSoup(req16.text, 'html.parser')\n",
    "\n",
    "tags = soup16.findAll(\"h2\")\n",
    "\n",
    "for h2 in tags:\n",
    "    print(h2.text)\n",
    "    resultados.append(h2.text)"
   ]
  },
  {
   "cell_type": "markdown",
   "id": "c8360345",
   "metadata": {},
   "source": [
    "## Titulares sección internacionales"
   ]
  },
  {
   "cell_type": "code",
   "execution_count": 41,
   "id": "ab7f883e",
   "metadata": {
    "scrolled": true
   },
   "outputs": [
    {
     "name": "stdout",
     "output_type": "stream",
     "text": [
      "El comité del 6 de enero prueba que Trump planeó días antes la marcha sobre el Capitolio \n",
      "Boris Johnson bloquea la moción de censura presentada por la oposición laborista \n",
      "López Obrador pide a Biden “audacia” con la inmigración\n",
      "La guerra de Ucrania durará\n",
      "Goodbye, Boris?\n",
      "Shinzo Abe transformó y transformará Japón\n",
      "Un magnicidio inusual que hace sentir a los japoneses vulnerables \n",
      "Populistas occidentales por el desagüe de la historia\n",
      "Kiev y Jersón, dos errores que marcan el curso de la guerra en Ucrania\n",
      "EE UU mata al líder del ISIS en Siria en un ataque con dron\n",
      "La oposición francesa exige investigar los lazos de Macron con Uber\n",
      "Miles de japoneses despiden a Shinzo Abe tras un funeral privado con aires solemnes \n",
      "El preso político más famoso de Egipto cumple 100 días en huelga de hambre\n",
      "Alemania teme que el corte del gas ruso por mantenimiento del Nord Stream 1 se convierta en definitivo\n",
      "Los manifestantes se atrincheran en el palacio presidencial de Sri Lanka\n",
      "El Gobierno de Macron supera con facilidad la moción de censura de la izquierda\n",
      "López Obrador se reúne con Kamala Harris para tratar la migración en Centroamérica\n",
      "El Partido Conservador endurece las normas de las primarias para acelerar la sustitución de Boris Johnson\n",
      "La economía de Ucrania, la otra gran víctima de la guerra\n",
      "López Obrador se reúne con Kamala Harris para tratar la migración en Centroamérica\n",
      "Boric anuncia una ayuda de 120 dólares para 7,5 millones de personas en medio de la crisis inflacionaria\n",
      "Estados Unidos extiende el estatus de protección a los migrantes venezolanos\n",
      "Biden y López Obrador negociarán el refuerzo de las fronteras \n",
      "La política boliviana se “narcotiza” con acusaciones en todas las direcciones\n"
     ]
    }
   ],
   "source": [
    "req2 = requests.get(\"https://elpais.com/internacional\")\n",
    "# Si el estatus code no es 200 no se puede leer la página\n",
    "if (req.status_code != 200):\n",
    " raise Exception(\"No se puede hacer Web Scraping en\"+ URL)\n",
    "soup2 = BeautifulSoup(req2.text, 'html.parser')\n",
    "\n",
    "tags = soup2.findAll(\"h2\")\n",
    "for h2 in tags:\n",
    "    print(h2.text)\n",
    "    resultados.append(h2.text)"
   ]
  },
  {
   "cell_type": "markdown",
   "id": "b04b3b8f",
   "metadata": {},
   "source": [
    "## Titulares con las palabras más buscadas en El Páis"
   ]
  },
  {
   "cell_type": "markdown",
   "id": "439aed69",
   "metadata": {},
   "source": [
    "En esta parte usaremos **os.system(clear)** para se haga una limpieza después de realizar el web scrapping."
   ]
  },
  {
   "cell_type": "code",
   "execution_count": 42,
   "id": "045e7d68",
   "metadata": {},
   "outputs": [
    {
     "data": {
      "text/plain": [
       "1"
      ]
     },
     "execution_count": 42,
     "metadata": {},
     "output_type": "execute_result"
    }
   ],
   "source": [
    "os.system(\"clear\")"
   ]
  },
  {
   "cell_type": "code",
   "execution_count": 43,
   "id": "2b4e8f77",
   "metadata": {
    "scrolled": true
   },
   "outputs": [
    {
     "name": "stdout",
     "output_type": "stream",
     "text": [
      "\u001b[1m\u001b[34mA continuación se muestran los titulares de las páginas principales del diario El País que contienen las siguientes palabras:\u001b[0m\n",
      "\u001b[1m\u001b[32mFeminismo\u001b[0m\n",
      "Americanas: Reportajes y noticias sobre feminismo e historias con enfoque de género de la región\n",
      "\u001b[1m\u001b[32mIgualdad\u001b[0m\n",
      "La escuela concertada ante las desigualdades: el debate pendiente\n",
      "El caso de Georgia, en EE UU: becar sin importar la renta agranda la desigualdad\n",
      "\u001b[1m\u001b[32mMujeres\u001b[0m\n",
      "El Panamá indígena busca empoderar a sus mujeres\n",
      "Arte NFT para sacar de la cárcel a mujeres insolventes en Egipto\n",
      "Róisín Murphy: “Los gays entienden la opresión de las mujeres. No se detienen ante nada”\n",
      "El control del cuerpo de las mujeres\n",
      "‘The Janes’: la red clandestina de mujeres que practicaba abortos ilegales en el Estados Unidos de los años sesenta\n",
      "\u001b[1m\u001b[32mMujer\u001b[0m\n",
      "Los 50 años de Sofia Vergara, la mujer que permitió que la encasillasen para convertirse en la actriz mejor pagada de la televisión\n",
      "El Panamá indígena busca empoderar a sus mujeres\n",
      "Arte NFT para sacar de la cárcel a mujeres insolventes en Egipto\n",
      "Róisín Murphy: “Los gays entienden la opresión de las mujeres. No se detienen ante nada”\n",
      "El control del cuerpo de las mujeres\n",
      "La policía recupera el cadáver de una mujer con signos de violencia en una alcantarilla de Málaga\n",
      "Los 50 años de Sofia Vergara, la mujer que permitió que la encasillasen para convertirse en la actriz mejor pagada de la televisión\n",
      "‘The Janes’: la red clandestina de mujeres que practicaba abortos ilegales en el Estados Unidos de los años sesenta\n",
      "\u001b[1m\u001b[32mBrecha salarial\u001b[0m\n",
      "\n",
      "\u001b[1m\u001b[32mMachismo\u001b[0m\n",
      "\n",
      "\u001b[1m\u001b[32mViolencia\u001b[0m\n",
      "La policía recupera el cadáver de una mujer con signos de violencia en una alcantarilla de Málaga\n",
      "\u001b[1m\u001b[32mMaltrato\u001b[0m\n",
      "\n",
      "\u001b[1m\u001b[32mHomicidio\u001b[0m\n",
      "\n",
      "\u001b[1m\u001b[32mGénero\u001b[0m\n",
      "Americanas: Reportajes y noticias sobre feminismo e historias con enfoque de género de la región\n",
      "\u001b[1m\u001b[32mAsesinato\u001b[0m\n",
      "Gamarra equipara el espíritu de Ermua tras el asesinato de Miguel Ángel Blanco a la oposición al Gobierno de Sánchez\n",
      "\u001b[1m\u001b[32mSexo\u001b[0m\n",
      "\n"
     ]
    }
   ],
   "source": [
    "print(colored(\"A continuación se muestran los titulares de las páginas principales del diario El País que contienen las siguientes palabras:\", 'blue', attrs=['bold']))\n",
    "print(colored(\"Feminismo\", 'green', attrs=['bold']))\n",
    "\n",
    "str_match = [s for s in resultados if \"feminismo\" in s]\n",
    "print(\"\\n\".join(str_match))\n",
    "\n",
    "print(colored(\"Igualdad\", 'green', attrs=['bold']))\n",
    "\n",
    "str_match = [s for s in resultados if \"igualdad\" in s]\n",
    "print(\"\\n\".join(str_match))\n",
    "\n",
    "print(colored(\"Mujeres\", 'green', attrs=['bold']))\n",
    "\n",
    "str_match = [s for s in resultados if \"mujeres\" in s]\n",
    "print(\"\\n\".join(str_match))\n",
    "\n",
    "print(colored(\"Mujer\", 'green', attrs=['bold']))\n",
    "\n",
    "str_match = [s for s in resultados if \"mujer\" in s]\n",
    "print(\"\\n\".join(str_match))\n",
    "\n",
    "print(colored(\"Brecha salarial\", 'green', attrs=['bold']))\n",
    "\n",
    "str_match = [s for s in resultados if \"brecha salarial\" in s]\n",
    "print(\"\\n\".join(str_match))\n",
    "\n",
    "print(colored(\"Machismo\", 'green', attrs=['bold']))\n",
    "\n",
    "str_match = [s for s in resultados if \"machismo\" in s]\n",
    "print(\"\\n\".join(str_match))\n",
    "\n",
    "print(colored(\"Violencia\", 'green', attrs=['bold']))\n",
    "\n",
    "str_match = [s for s in resultados if \"violencia\" in s]\n",
    "print(\"\\n\".join(str_match))\n",
    "\n",
    "print(colored(\"Maltrato\", 'green', attrs=['bold']))\n",
    "\n",
    "str_match = [s for s in resultados if \"maltrato\" in s]\n",
    "print(\"\\n\".join(str_match))\n",
    "\n",
    "print(colored(\"Homicidio\", 'green', attrs=['bold']))\n",
    "\n",
    "str_match = [s for s in resultados if \"homicidio\" in s]\n",
    "print(\"\\n\".join(str_match))\n",
    "\n",
    "print(colored(\"Género\", 'green', attrs=['bold']))\n",
    "\n",
    "str_match = [s for s in resultados if \"género\" in s]\n",
    "print(\"\\n\".join(str_match))\n",
    "\n",
    "print(colored(\"Asesinato\", 'green', attrs=['bold']))\n",
    "\n",
    "str_match = [s for s in resultados if \"asesinato\" in s]\n",
    "print(\"\\n\".join(str_match))\n",
    "\n",
    "print(colored(\"Sexo\", 'green', attrs=['bold']))\n",
    "\n",
    "str_match = [s for s in resultados if \"sexo\" in s]\n",
    "print(\"\\n\".join(str_match))"
   ]
  },
  {
   "cell_type": "markdown",
   "id": "aaa0d41a",
   "metadata": {},
   "source": [
    "## Conclusión de la actividad"
   ]
  },
  {
   "cell_type": "markdown",
   "id": "1f8a0f71",
   "metadata": {},
   "source": [
    "Gracias a el web scraping se pueden obtener información de manera rápida y automática de diferentes sitios webs,sobre todo porque se ahorra tiempo en busqueda y se recopilan los datos más precisos, con las herramientas adecuadas; en este caso fue del diario El País.\n",
    "El web scraping puede ser complejo, pero con organización y cuidado se puede realizar un buen trabajo, siempre se debe empezar por  descagar todas las urls que se desean buscar, analizar bien el código fuente antes de empezar a ejecutarlo.\n",
    "\n"
   ]
  }
 ],
 "metadata": {
  "kernelspec": {
   "display_name": "Python 3 (ipykernel)",
   "language": "python",
   "name": "python3"
  },
  "language_info": {
   "codemirror_mode": {
    "name": "ipython",
    "version": 3
   },
   "file_extension": ".py",
   "mimetype": "text/x-python",
   "name": "python",
   "nbconvert_exporter": "python",
   "pygments_lexer": "ipython3",
   "version": "3.9.12"
  }
 },
 "nbformat": 4,
 "nbformat_minor": 5
}
